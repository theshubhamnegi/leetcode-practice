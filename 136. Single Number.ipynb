{
 "cells": [
  {
   "cell_type": "markdown",
   "metadata": {},
   "source": [
    "136. Single Number\n",
    "<div class=\"elfjS\" data-track-load=\"description_content\"><p>Given a <strong>non-empty</strong>&nbsp;array of integers <code>nums</code>, every element appears <em>twice</em> except for one. Find that single one.</p>\n",
    "\n",
    "<p>You must&nbsp;implement a solution with a linear runtime complexity and use&nbsp;only constant&nbsp;extra space.</p>\n",
    "\n",
    "<p>&nbsp;</p>\n",
    "<p><strong class=\"example\">Example 1:</strong></p>\n",
    "<pre><strong>Input:</strong> nums = [2,2,1]\n",
    "<strong>Output:</strong> 1\n",
    "</pre><p><strong class=\"example\">Example 2:</strong></p>\n",
    "<pre><strong>Input:</strong> nums = [4,1,2,1,2]\n",
    "<strong>Output:</strong> 4\n",
    "</pre><p><strong class=\"example\">Example 3:</strong></p>\n",
    "<pre><strong>Input:</strong> nums = [1]\n",
    "<strong>Output:</strong> 1\n",
    "</pre>\n",
    "<p>&nbsp;</p>\n",
    "<p><strong>Constraints:</strong></p>\n",
    "\n",
    "<ul>\n",
    "\t<li><code>1 &lt;= nums.length &lt;= 3 * 10<sup>4</sup></code></li>\n",
    "\t<li><code>-3 * 10<sup>4</sup> &lt;= nums[i] &lt;= 3 * 10<sup>4</sup></code></li>\n",
    "\t<li>Each element in the array appears twice except for one element which appears only once.</li>\n",
    "</ul>\n",
    "</div>"
   ]
  },
  {
   "cell_type": "code",
   "execution_count": 2,
   "metadata": {},
   "outputs": [],
   "source": [
    "from typing import List, Optional, Union, Dict, Any\n",
    "from collections import Counter"
   ]
  },
  {
   "cell_type": "code",
   "execution_count": 3,
   "metadata": {},
   "outputs": [],
   "source": [
    "class Solution:\n",
    "    def singleNumber(self, nums: List[int]) -> int:\n",
    "        ans = Counter(nums)\n",
    "\n",
    "        for i in ans:\n",
    "            if ans[i] == 1:\n",
    "                return i"
   ]
  },
  {
   "cell_type": "code",
   "execution_count": 4,
   "metadata": {},
   "outputs": [],
   "source": [
    "class Solution:\n",
    "    def singleNumber(self, nums: List[int]) -> int:\n",
    "        xor = 0\n",
    "        for num in nums:\n",
    "            xor ^= num\n",
    "        \n",
    "        return xor"
   ]
  },
  {
   "cell_type": "code",
   "execution_count": 5,
   "metadata": {},
   "outputs": [],
   "source": [
    "class Solution:\n",
    "    def singleNumber(self, nums: List[int]) -> int:\n",
    "        nums.sort()\n",
    "\n",
    "        i = 0\n",
    "\n",
    "        while i <= len(nums)-2:\n",
    "            if nums[i] != nums[i+1]:\n",
    "                return nums[i]\n",
    "            else:\n",
    "                i += 2\n",
    "        \n",
    "        return nums[-1] "
   ]
  }
 ],
 "metadata": {
  "kernelspec": {
   "display_name": "Python 3",
   "language": "python",
   "name": "python3"
  },
  "language_info": {
   "codemirror_mode": {
    "name": "ipython",
    "version": 3
   },
   "file_extension": ".py",
   "mimetype": "text/x-python",
   "name": "python",
   "nbconvert_exporter": "python",
   "pygments_lexer": "ipython3",
   "version": "3.12.2"
  }
 },
 "nbformat": 4,
 "nbformat_minor": 2
}
