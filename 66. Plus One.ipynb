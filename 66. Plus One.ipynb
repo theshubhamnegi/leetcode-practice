{
 "cells": [
  {
   "cell_type": "markdown",
   "metadata": {},
   "source": [
    "66. Plus One\n",
    "<div class=\"elfjS\" data-track-load=\"description_content\"><p>You are given a <strong>large integer</strong> represented as an integer array <code>digits</code>, where each <code>digits[i]</code> is the <code>i<sup>th</sup></code> digit of the integer. The digits are ordered from most significant to least significant in left-to-right order. The large integer does not contain any leading <code>0</code>'s.</p>\n",
    "\n",
    "<p>Increment the large integer by one and return <em>the resulting array of digits</em>.</p>\n",
    "\n",
    "<p>&nbsp;</p>\n",
    "<p><strong class=\"example\">Example 1:</strong></p>\n",
    "\n",
    "<pre><strong>Input:</strong> digits = [1,2,3]\n",
    "<strong>Output:</strong> [1,2,4]\n",
    "<strong>Explanation:</strong> The array represents the integer 123.\n",
    "Incrementing by one gives 123 + 1 = 124.\n",
    "Thus, the result should be [1,2,4].\n",
    "</pre>\n",
    "\n",
    "<p><strong class=\"example\">Example 2:</strong></p>\n",
    "\n",
    "<pre><strong>Input:</strong> digits = [4,3,2,1]\n",
    "<strong>Output:</strong> [4,3,2,2]\n",
    "<strong>Explanation:</strong> The array represents the integer 4321.\n",
    "Incrementing by one gives 4321 + 1 = 4322.\n",
    "Thus, the result should be [4,3,2,2].\n",
    "</pre>\n",
    "\n",
    "<p><strong class=\"example\">Example 3:</strong></p>\n",
    "\n",
    "<pre><strong>Input:</strong> digits = [9]\n",
    "<strong>Output:</strong> [1,0]\n",
    "<strong>Explanation:</strong> The array represents the integer 9.\n",
    "Incrementing by one gives 9 + 1 = 10.\n",
    "Thus, the result should be [1,0].\n",
    "</pre>\n",
    "\n",
    "<p>&nbsp;</p>\n",
    "<p><strong>Constraints:</strong></p>\n",
    "\n",
    "<ul>\n",
    "\t<li><code>1 &lt;= digits.length &lt;= 100</code></li>\n",
    "\t<li><code>0 &lt;= digits[i] &lt;= 9</code></li>\n",
    "\t<li><code>digits</code> does not contain any leading <code>0</code>'s.</li>\n",
    "</ul>\n",
    "</div>"
   ]
  },
  {
   "cell_type": "code",
   "execution_count": 2,
   "metadata": {},
   "outputs": [],
   "source": [
    "from typing import List, Optional, Union, Dict, Any"
   ]
  },
  {
   "cell_type": "code",
   "execution_count": 3,
   "metadata": {},
   "outputs": [],
   "source": [
    "class Solution:\n",
    "    def plusOne(self, digits: List[int]) -> List[int]:\n",
    "        for i in reversed(range(len(digits))):\n",
    "            if digits[i] == 9:\n",
    "                digits[i] = 0\n",
    "            else:\n",
    "                digits[i] += 1\n",
    "                return digits        \n",
    "        return [1] + digits"
   ]
  }
 ],
 "metadata": {
  "kernelspec": {
   "display_name": "Python 3",
   "language": "python",
   "name": "python3"
  },
  "language_info": {
   "codemirror_mode": {
    "name": "ipython",
    "version": 3
   },
   "file_extension": ".py",
   "mimetype": "text/x-python",
   "name": "python",
   "nbconvert_exporter": "python",
   "pygments_lexer": "ipython3",
   "version": "3.12.2"
  }
 },
 "nbformat": 4,
 "nbformat_minor": 2
}
