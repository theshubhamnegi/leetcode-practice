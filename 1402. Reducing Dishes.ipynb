{
 "cells": [
  {
   "cell_type": "markdown",
   "metadata": {},
   "source": [
    "1402. Reducing Dishes\n",
    "<div class=\"elfjS\" data-track-load=\"description_content\"><p>A chef has collected data on the <code>satisfaction</code> level of his <code>n</code> dishes. Chef can cook any dish in 1 unit of time.</p>\n",
    "\n",
    "<p><strong>Like-time coefficient</strong> of a dish is defined as the time taken to cook that dish including previous dishes multiplied by its satisfaction level i.e. <code>time[i] * satisfaction[i]</code>.</p>\n",
    "\n",
    "<p>Return the maximum sum of <strong>like-time coefficient </strong>that the chef can obtain after preparing some amount of dishes.</p>\n",
    "\n",
    "<p>Dishes can be prepared in <strong>any </strong>order and the chef can discard some dishes to get this maximum value.</p>\n",
    "\n",
    "<p>&nbsp;</p>\n",
    "<p><strong class=\"example\">Example 1:</strong></p>\n",
    "\n",
    "<pre><strong>Input:</strong> satisfaction = [-1,-8,0,5,-9]\n",
    "<strong>Output:</strong> 14\n",
    "<strong>Explanation:</strong> After Removing the second and last dish, the maximum total <strong>like-time coefficient</strong> will be equal to (-1*1 + 0*2 + 5*3 = 14).\n",
    "Each dish is prepared in one unit of time.</pre>\n",
    "\n",
    "<p><strong class=\"example\">Example 2:</strong></p>\n",
    "\n",
    "<pre><strong>Input:</strong> satisfaction = [4,3,2]\n",
    "<strong>Output:</strong> 20\n",
    "<strong>Explanation:</strong> Dishes can be prepared in any order, (2*1 + 3*2 + 4*3 = 20)\n",
    "</pre>\n",
    "\n",
    "<p><strong class=\"example\">Example 3:</strong></p>\n",
    "\n",
    "<pre><strong>Input:</strong> satisfaction = [-1,-4,-5]\n",
    "<strong>Output:</strong> 0\n",
    "<strong>Explanation:</strong> People do not like the dishes. No dish is prepared.\n",
    "</pre>\n",
    "\n",
    "<p>&nbsp;</p>\n",
    "<p><strong>Constraints:</strong></p>\n",
    "\n",
    "<ul>\n",
    "\t<li><code>n == satisfaction.length</code></li>\n",
    "\t<li><code>1 &lt;= n &lt;= 500</code></li>\n",
    "\t<li><code>-1000 &lt;= satisfaction[i] &lt;= 1000</code></li>\n",
    "</ul>\n",
    "</div>"
   ]
  },
  {
   "cell_type": "code",
   "execution_count": 2,
   "metadata": {},
   "outputs": [],
   "source": [
    "from typing import List, Optional, Union, Dict, Any"
   ]
  },
  {
   "cell_type": "code",
   "execution_count": 3,
   "metadata": {},
   "outputs": [],
   "source": [
    "class Solution:\n",
    "    def maxSatisfaction(self, satisfaction: List[int]) -> int:\n",
    "        satisfaction.sort()\n",
    "        ans = 0\n",
    "        satis = 0\n",
    "        for i in range(len(satisfaction)):\n",
    "            ans += satisfaction[i] * (i+1)\n",
    "            satis += satisfaction[i]\n",
    "\n",
    "        sums = ans\n",
    "        for i in satisfaction:\n",
    "            sums = sums - satis\n",
    "            satis = satis - i\n",
    "\n",
    "            if sums > ans:\n",
    "                ans = sums\n",
    "\n",
    "        return ans if ans > 0 else 0"
   ]
  }
 ],
 "metadata": {
  "kernelspec": {
   "display_name": "Python 3",
   "language": "python",
   "name": "python3"
  },
  "language_info": {
   "codemirror_mode": {
    "name": "ipython",
    "version": 3
   },
   "file_extension": ".py",
   "mimetype": "text/x-python",
   "name": "python",
   "nbconvert_exporter": "python",
   "pygments_lexer": "ipython3",
   "version": "3.12.2"
  }
 },
 "nbformat": 4,
 "nbformat_minor": 2
}
