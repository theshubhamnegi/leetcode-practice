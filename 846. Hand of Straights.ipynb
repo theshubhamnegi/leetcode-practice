{
 "cells": [
  {
   "cell_type": "markdown",
   "metadata": {},
   "source": [
    "846. Hand of Straights\n",
    "<div class=\"elfjS\" data-track-load=\"description_content\"><p>Alice has some number of cards and she wants to rearrange the cards into groups so that each group is of size <code>groupSize</code>, and consists of <code>groupSize</code> consecutive cards.</p>\n",
    "\n",
    "<p>Given an integer array <code>hand</code> where <code>hand[i]</code> is the value written on the <code>i<sup>th</sup></code> card and an integer <code>groupSize</code>, return <code>true</code> if she can rearrange the cards, or <code>false</code> otherwise.</p>\n",
    "\n",
    "<p>&nbsp;</p>\n",
    "<p><strong class=\"example\">Example 1:</strong></p>\n",
    "\n",
    "<pre><strong>Input:</strong> hand = [1,2,3,6,2,3,4,7,8], groupSize = 3\n",
    "<strong>Output:</strong> true\n",
    "<strong>Explanation:</strong> Alice's hand can be rearranged as [1,2,3],[2,3,4],[6,7,8]\n",
    "</pre>\n",
    "\n",
    "<p><strong class=\"example\">Example 2:</strong></p>\n",
    "\n",
    "<pre><strong>Input:</strong> hand = [1,2,3,4,5], groupSize = 4\n",
    "<strong>Output:</strong> false\n",
    "<strong>Explanation:</strong> Alice's hand can not be rearranged into groups of 4.\n",
    "\n",
    "</pre>\n",
    "\n",
    "<p>&nbsp;</p>\n",
    "<p><strong>Constraints:</strong></p>\n",
    "\n",
    "<ul>\n",
    "\t<li><code>1 &lt;= hand.length &lt;= 10<sup>4</sup></code></li>\n",
    "\t<li><code>0 &lt;= hand[i] &lt;= 10<sup>9</sup></code></li>\n",
    "\t<li><code>1 &lt;= groupSize &lt;= hand.length</code></li>\n",
    "</ul>\n",
    "\n",
    "<p>&nbsp;</p>\n",
    "<p><strong>Note:</strong> This question is the same as 1296: <a href=\"https://leetcode.com/problems/divide-array-in-sets-of-k-consecutive-numbers/\" target=\"_blank\">https://leetcode.com/problems/divide-array-in-sets-of-k-consecutive-numbers/</a></p>\n",
    "</div>"
   ]
  },
  {
   "cell_type": "code",
   "execution_count": 3,
   "metadata": {},
   "outputs": [],
   "source": [
    "from typing import List, Optional, Union, Dict, Any\n",
    "from collections import Counter"
   ]
  },
  {
   "cell_type": "code",
   "execution_count": 10,
   "metadata": {},
   "outputs": [],
   "source": [
    "class Solution:\n",
    "    def isNStraightHand(self, hand: List[int], groupSize: int) -> bool:\n",
    "\n",
    "        if len(hand) % groupSize != 0:\n",
    "            return False\n",
    "\n",
    "        count = Counter(hand)\n",
    "        sorts = sorted(count.keys())\n",
    "\n",
    "        for i in sorts:\n",
    "            if count[i] > 0:\n",
    "                for j in range(1, groupSize):\n",
    "                    if count[i + j] < count[i]:\n",
    "                        return False\n",
    "                    count[i + j] -= count[i]\n",
    "        return True\n"
   ]
  }
 ],
 "metadata": {
  "kernelspec": {
   "display_name": "Python 3",
   "language": "python",
   "name": "python3"
  },
  "language_info": {
   "codemirror_mode": {
    "name": "ipython",
    "version": 3
   },
   "file_extension": ".py",
   "mimetype": "text/x-python",
   "name": "python",
   "nbconvert_exporter": "python",
   "pygments_lexer": "ipython3",
   "version": "3.12.2"
  }
 },
 "nbformat": 4,
 "nbformat_minor": 2
}
