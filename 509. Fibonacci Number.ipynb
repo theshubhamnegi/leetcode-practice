{
 "cells": [
  {
   "cell_type": "markdown",
   "metadata": {},
   "source": [
    "509. Fibonacci Number\n",
    "<div class=\"elfjS\" data-track-load=\"description_content\"><p>The <b>Fibonacci numbers</b>, commonly denoted <code>F(n)</code> form a sequence, called the <b>Fibonacci sequence</b>, such that each number is the sum of the two preceding ones, starting from <code>0</code> and <code>1</code>. That is,</p>\n",
    "\n",
    "<pre>F(0) = 0, F(1) = 1\n",
    "F(n) = F(n - 1) + F(n - 2), for n &gt; 1.\n",
    "</pre>\n",
    "\n",
    "<p>Given <code>n</code>, calculate <code>F(n)</code>.</p>\n",
    "\n",
    "<p>&nbsp;</p>\n",
    "<p><strong class=\"example\">Example 1:</strong></p>\n",
    "\n",
    "<pre><strong>Input:</strong> n = 2\n",
    "<strong>Output:</strong> 1\n",
    "<strong>Explanation:</strong> F(2) = F(1) + F(0) = 1 + 0 = 1.\n",
    "</pre>\n",
    "\n",
    "<p><strong class=\"example\">Example 2:</strong></p>\n",
    "\n",
    "<pre><strong>Input:</strong> n = 3\n",
    "<strong>Output:</strong> 2\n",
    "<strong>Explanation:</strong> F(3) = F(2) + F(1) = 1 + 1 = 2.\n",
    "</pre>\n",
    "\n",
    "<p><strong class=\"example\">Example 3:</strong></p>\n",
    "\n",
    "<pre><strong>Input:</strong> n = 4\n",
    "<strong>Output:</strong> 3\n",
    "<strong>Explanation:</strong> F(4) = F(3) + F(2) = 2 + 1 = 3.\n",
    "</pre>\n",
    "\n",
    "<p>&nbsp;</p>\n",
    "<p><strong>Constraints:</strong></p>\n",
    "\n",
    "<ul>\n",
    "\t<li><code>0 &lt;= n &lt;= 30</code></li>\n",
    "</ul>\n",
    "</div>"
   ]
  },
  {
   "cell_type": "code",
   "execution_count": 2,
   "metadata": {},
   "outputs": [],
   "source": [
    "from typing import List, Optional, Union, Dict, Any"
   ]
  },
  {
   "cell_type": "code",
   "execution_count": 3,
   "metadata": {},
   "outputs": [],
   "source": [
    "class Solution:\n",
    "    def fib(self, n: int) -> int:\n",
    "        if n == 0:\n",
    "            return 0\n",
    "        elif n == 1:\n",
    "            return 1\n",
    "        else:\n",
    "            return self.fib(n - 1) + self.fib(n - 2)"
   ]
  }
 ],
 "metadata": {
  "kernelspec": {
   "display_name": "Python 3",
   "language": "python",
   "name": "python3"
  },
  "language_info": {
   "codemirror_mode": {
    "name": "ipython",
    "version": 3
   },
   "file_extension": ".py",
   "mimetype": "text/x-python",
   "name": "python",
   "nbconvert_exporter": "python",
   "pygments_lexer": "ipython3",
   "version": "3.12.2"
  }
 },
 "nbformat": 4,
 "nbformat_minor": 2
}
