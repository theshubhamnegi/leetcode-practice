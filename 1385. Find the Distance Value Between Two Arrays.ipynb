{
 "cells": [
  {
   "cell_type": "markdown",
   "metadata": {},
   "source": [
    "1385. Find the Distance Value Between Two Arrays\n",
    "<div class=\"elfjS\"><p>Given two integer arrays <code>arr1</code> and <code>arr2</code>, and the integer <code>d</code>, <em>return the distance value between the two arrays</em>.</p>\n",
    "\n",
    "<p>The distance value is defined as the number of elements <code>arr1[i]</code> such that there is not any element <code>arr2[j]</code> where <code>|arr1[i]-arr2[j]| &lt;= d</code>.</p>\n",
    "\n",
    "<p>&nbsp;</p>\n",
    "<p><strong class=\"example\">Example 1:</strong></p>\n",
    "\n",
    "<pre><strong>Input:</strong> arr1 = [4,5,8], arr2 = [10,9,1,8], d = 2\n",
    "<strong>Output:</strong> 2\n",
    "<strong>Explanation:</strong> \n",
    "For arr1[0]=4 we have: \n",
    "|4-10|=6 &gt; d=2 \n",
    "|4-9|=5 &gt; d=2 \n",
    "|4-1|=3 &gt; d=2 \n",
    "|4-8|=4 &gt; d=2 \n",
    "For arr1[1]=5 we have: \n",
    "|5-10|=5 &gt; d=2 \n",
    "|5-9|=4 &gt; d=2 \n",
    "|5-1|=4 &gt; d=2 \n",
    "|5-8|=3 &gt; d=2\n",
    "For arr1[2]=8 we have:\n",
    "<strong>|8-10|=2 &lt;= d=2</strong>\n",
    "<strong>|8-9|=1 &lt;= d=2</strong>\n",
    "|8-1|=7 &gt; d=2\n",
    "<strong>|8-8|=0 &lt;= d=2</strong>\n",
    "</pre>\n",
    "\n",
    "<p><strong class=\"example\">Example 2:</strong></p>\n",
    "\n",
    "<pre><strong>Input:</strong> arr1 = [1,4,2,3], arr2 = [-4,-3,6,10,20,30], d = 3\n",
    "<strong>Output:</strong> 2\n",
    "</pre>\n",
    "\n",
    "<p><strong class=\"example\">Example 3:</strong></p>\n",
    "\n",
    "<pre><strong>Input:</strong> arr1 = [2,1,100,3], arr2 = [-5,-2,10,-3,7], d = 6\n",
    "<strong>Output:</strong> 1\n",
    "</pre>\n",
    "\n",
    "<p>&nbsp;</p>\n",
    "<p><strong>Constraints:</strong></p>\n",
    "\n",
    "<ul>\n",
    "\t<li><code>1 &lt;= arr1.length, arr2.length &lt;= 500</code></li>\n",
    "\t<li><code>-1000 &lt;= arr1[i], arr2[j] &lt;= 1000</code></li>\n",
    "\t<li><code>0 &lt;= d &lt;= 100</code></li>\n",
    "</ul>\n",
    "</div>"
   ]
  },
  {
   "cell_type": "code",
   "execution_count": 1,
   "metadata": {},
   "outputs": [],
   "source": [
    "from typing import List, Optional, Union, Dict, Any"
   ]
  },
  {
   "cell_type": "code",
   "execution_count": 2,
   "metadata": {},
   "outputs": [],
   "source": [
    "class Solution:\n",
    "    def findTheDistanceValue(self, arr1: List[int], arr2: List[int], d: int) -> int:\n",
    "        \n",
    "        ans = 0\n",
    "\n",
    "        for a in arr1:\n",
    "            condition = True\n",
    "\n",
    "            for b in arr2:\n",
    "                if abs(a - b) <= d:\n",
    "                    condition = False\n",
    "                    break\n",
    "\n",
    "            if condition:\n",
    "                ans += 1\n",
    "\n",
    "        return ans"
   ]
  },
  {
   "cell_type": "code",
   "execution_count": 3,
   "metadata": {},
   "outputs": [],
   "source": [
    "class Solution:\n",
    "    def findTheDistanceValue(self, arr1: List[int], arr2: List[int], d: int) -> int:\n",
    "        ans = 0\n",
    "        for x in arr1:\n",
    "            count = all(abs(y-x)>d for y in arr2)\n",
    "            if count:\n",
    "                ans+=1\n",
    "        return ans"
   ]
  }
 ],
 "metadata": {
  "kernelspec": {
   "display_name": "Python 3",
   "language": "python",
   "name": "python3"
  },
  "language_info": {
   "codemirror_mode": {
    "name": "ipython",
    "version": 3
   },
   "file_extension": ".py",
   "mimetype": "text/x-python",
   "name": "python",
   "nbconvert_exporter": "python",
   "pygments_lexer": "ipython3",
   "version": "3.12.2"
  }
 },
 "nbformat": 4,
 "nbformat_minor": 2
}
