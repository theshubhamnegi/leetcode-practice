{
 "cells": [
  {
   "cell_type": "markdown",
   "metadata": {},
   "source": [
    "191. Number of 1 Bits\n",
    "<div class=\"elfjS\" data-track-load=\"description_content\"><p>Write a function that takes the binary representation of a positive integer and returns the number of <span data-keyword=\"set-bit\" class=\" cursor-pointer relative text-dark-blue-s text-sm\"><div class=\"popover-wrapper inline-block\" data-headlessui-state=\"\"><div><div aria-expanded=\"false\" data-headlessui-state=\"\" id=\"headlessui-popover-button-:rk:\"><div>set bits</div></div><div style=\"position: fixed; z-index: 40; inset: 0px auto auto 0px; transform: translate(263px, 203px);\"></div></div></div></span> it has (also known as the <a href=\"http://en.wikipedia.org/wiki/Hamming_weight\" target=\"_blank\">Hamming weight</a>).</p>\n",
    "\n",
    "<p>&nbsp;</p>\n",
    "<p><strong class=\"example\">Example 1:</strong></p>\n",
    "\n",
    "<div class=\"example-block\">\n",
    "<p><strong>Input:</strong> <span class=\"example-io\">n = 11</span></p>\n",
    "\n",
    "<p><strong>Output:</strong> <span class=\"example-io\">3</span></p>\n",
    "\n",
    "<p><strong>Explanation:</strong></p>\n",
    "\n",
    "<p>The input binary string <strong>1011</strong> has a total of three set bits.</p>\n",
    "</div>\n",
    "\n",
    "<p><strong class=\"example\">Example 2:</strong></p>\n",
    "\n",
    "<div class=\"example-block\">\n",
    "<p><strong>Input:</strong> <span class=\"example-io\">n = 128</span></p>\n",
    "\n",
    "<p><strong>Output:</strong> <span class=\"example-io\">1</span></p>\n",
    "\n",
    "<p><strong>Explanation:</strong></p>\n",
    "\n",
    "<p>The input binary string <strong>10000000</strong> has a total of one set bit.</p>\n",
    "</div>\n",
    "\n",
    "<p><strong class=\"example\">Example 3:</strong></p>\n",
    "\n",
    "<div class=\"example-block\">\n",
    "<p><strong>Input:</strong> <span class=\"example-io\">n = 2147483645</span></p>\n",
    "\n",
    "<p><strong>Output:</strong> <span class=\"example-io\">30</span></p>\n",
    "\n",
    "<p><strong>Explanation:</strong></p>\n",
    "\n",
    "<p>The input binary string <strong>1111111111111111111111111111101</strong> has a total of thirty set bits.</p>\n",
    "</div>\n",
    "\n",
    "<p>&nbsp;</p>\n",
    "<p><strong>Constraints:</strong></p>\n",
    "\n",
    "<ul>\n",
    "\t<li><code>1 &lt;= n&nbsp;&lt;= 2<sup>31</sup>&nbsp;- 1</code></li>\n",
    "</ul>\n",
    "\n",
    "<p>&nbsp;</p>\n",
    "<strong>Follow up:</strong> If this function is called many times, how would you optimize it?</div>"
   ]
  },
  {
   "cell_type": "code",
   "execution_count": 2,
   "metadata": {},
   "outputs": [],
   "source": [
    "from typing import List, Optional, Union, Dict, Any"
   ]
  },
  {
   "cell_type": "code",
   "execution_count": 3,
   "metadata": {},
   "outputs": [],
   "source": [
    "class Solution:\n",
    "    def hammingWeight(self, n: int) -> int:\n",
    "        ans = 0\n",
    "\n",
    "        for i in range(32):\n",
    "            if (n >> i) & 1:\n",
    "                ans += 1\n",
    "\n",
    "        return ans"
   ]
  }
 ],
 "metadata": {
  "kernelspec": {
   "display_name": "Python 3",
   "language": "python",
   "name": "python3"
  },
  "language_info": {
   "codemirror_mode": {
    "name": "ipython",
    "version": 3
   },
   "file_extension": ".py",
   "mimetype": "text/x-python",
   "name": "python",
   "nbconvert_exporter": "python",
   "pygments_lexer": "ipython3",
   "version": "3.12.2"
  }
 },
 "nbformat": 4,
 "nbformat_minor": 2
}
