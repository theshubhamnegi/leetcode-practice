{
 "cells": [
  {
   "cell_type": "markdown",
   "metadata": {},
   "source": [
    "39. Combination Sum\n",
    "<div class=\"elfjS\" data-track-load=\"description_content\"><p>Given an array of <strong>distinct</strong> integers <code>candidates</code> and a target integer <code>target</code>, return <em>a list of all <strong>unique combinations</strong> of </em><code>candidates</code><em> where the chosen numbers sum to </em><code>target</code><em>.</em> You may return the combinations in <strong>any order</strong>.</p>\n",
    "\n",
    "<p>The <strong>same</strong> number may be chosen from <code>candidates</code> an <strong>unlimited number of times</strong>. Two combinations are unique if the <span data-keyword=\"frequency-array\" class=\" cursor-pointer relative text-dark-blue-s text-sm\"><div class=\"popover-wrapper inline-block\" data-headlessui-state=\"\"><div><div aria-expanded=\"false\" data-headlessui-state=\"\" id=\"headlessui-popover-button-:rk:\"><div>frequency</div></div><div style=\"position: fixed; z-index: 40; inset: 0px auto auto 0px; transform: translate(394px, 303px);\"></div></div></div></span> of at least one of the chosen numbers is different.</p>\n",
    "\n",
    "<p>The test cases are generated such that the number of unique combinations that sum up to <code>target</code> is less than <code>150</code> combinations for the given input.</p>\n",
    "\n",
    "<p>&nbsp;</p>\n",
    "<p><strong class=\"example\">Example 1:</strong></p>\n",
    "\n",
    "<pre><strong>Input:</strong> candidates = [2,3,6,7], target = 7\n",
    "<strong>Output:</strong> [[2,2,3],[7]]\n",
    "<strong>Explanation:</strong>\n",
    "2 and 3 are candidates, and 2 + 2 + 3 = 7. Note that 2 can be used multiple times.\n",
    "7 is a candidate, and 7 = 7.\n",
    "These are the only two combinations.\n",
    "</pre>\n",
    "\n",
    "<p><strong class=\"example\">Example 2:</strong></p>\n",
    "\n",
    "<pre><strong>Input:</strong> candidates = [2,3,5], target = 8\n",
    "<strong>Output:</strong> [[2,2,2,2],[2,3,3],[3,5]]\n",
    "</pre>\n",
    "\n",
    "<p><strong class=\"example\">Example 3:</strong></p>\n",
    "\n",
    "<pre><strong>Input:</strong> candidates = [2], target = 1\n",
    "<strong>Output:</strong> []\n",
    "</pre>\n",
    "\n",
    "<p>&nbsp;</p>\n",
    "<p><strong>Constraints:</strong></p>\n",
    "\n",
    "<ul>\n",
    "\t<li><code>1 &lt;= candidates.length &lt;= 30</code></li>\n",
    "\t<li><code>2 &lt;= candidates[i] &lt;= 40</code></li>\n",
    "\t<li>All elements of <code>candidates</code> are <strong>distinct</strong>.</li>\n",
    "\t<li><code>1 &lt;= target &lt;= 40</code></li>\n",
    "</ul>\n",
    "</div>"
   ]
  },
  {
   "cell_type": "code",
   "execution_count": 2,
   "metadata": {},
   "outputs": [],
   "source": [
    "from typing import List, Optional, Union, Dict, Any"
   ]
  },
  {
   "cell_type": "code",
   "execution_count": 3,
   "metadata": {},
   "outputs": [],
   "source": [
    "class Solution:\n",
    "    def combinationSum(self, candidates: List[int], target: int) -> List[List[int]]:\n",
    "        cur, res = [], []\n",
    "        def dfs(i):\n",
    "            total = sum(cur)\n",
    "            if total == target: \n",
    "                res.append(cur.copy())\n",
    "                return\n",
    "            if total > target: return\n",
    "            if i >= len(candidates): return\n",
    "            cur.append(candidates[i])\n",
    "            dfs(i)\n",
    "            cur.pop()\n",
    "            dfs(i+1)\n",
    "        dfs(0)\n",
    "        return res "
   ]
  }
 ],
 "metadata": {
  "kernelspec": {
   "display_name": "Python 3",
   "language": "python",
   "name": "python3"
  },
  "language_info": {
   "codemirror_mode": {
    "name": "ipython",
    "version": 3
   },
   "file_extension": ".py",
   "mimetype": "text/x-python",
   "name": "python",
   "nbconvert_exporter": "python",
   "pygments_lexer": "ipython3",
   "version": "3.12.2"
  }
 },
 "nbformat": 4,
 "nbformat_minor": 2
}
